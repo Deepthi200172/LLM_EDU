{
 "cells": [
  {
   "cell_type": "code",
   "execution_count": 26,
   "id": "4e2a9393-7767-488e-a8bf-27c12dca35bd",
   "metadata": {},
   "outputs": [],
   "source": [
    "# imports\n",
    "\n",
    "import os\n",
    "import requests\n",
    "from dotenv import load_dotenv\n",
    "from bs4 import BeautifulSoup\n",
    "from IPython.display import Markdown, display\n",
    "\n",
    "# If you get an error running this cell, then please head over to the troubleshooting notebook!"
   ]
  },
  {
   "cell_type": "code",
   "execution_count": 27,
   "id": "c5e793b2-6775-426a-a139-4848291d0463",
   "metadata": {},
   "outputs": [],
   "source": [
    "headers = {\n",
    " \"User-Agent\": \"Mozilla/5.0 (Windows NT 10.0; Win64; x64) AppleWebKit/537.36 (KHTML, like Gecko) Chrome/117.0.0.0 Safari/537.36\"\n",
    "}\n",
    "\n",
    "class Website:\n",
    "\n",
    "    def __init__(self, url):\n",
    "        \"\"\"\n",
    "        Create this Website object from the given url using the BeautifulSoup library\n",
    "        \"\"\"\n",
    "        self.url = url\n",
    "        response = requests.get(url, headers=headers)\n",
    "        soup = BeautifulSoup(response.content, 'html.parser')\n",
    "        self.title = soup.title.string if soup.title else \"No title found\"\n",
    "        for irrelevant in soup.body([\"script\", \"style\", \"img\", \"input\"]):\n",
    "            irrelevant.decompose()\n",
    "        self.text = soup.body.get_text(separator=\"\\n\", strip=True)"
   ]
  },
  {
   "cell_type": "code",
   "execution_count": 37,
   "id": "333e19f3",
   "metadata": {},
   "outputs": [],
   "source": [
    "headers = {\n",
    " \"User-Agent\": \"Mozilla/5.0 (Windows NT 10.0; Win64; x64) AppleWebKit/537.36 (KHTML, like Gecko) Chrome/117.0.0.0 Safari/537.36\"\n",
    "}\n",
    "\n",
    "class Website:\n",
    "    def __init__(self, url):\n",
    "        self.url = url\n",
    "        response = requests.get(url, headers=headers)\n",
    "        soup = BeautifulSoup(response.content, 'html.parser')\n",
    "        self.title = soup.title.string if soup.title else \"No title found\"\n",
    "        for irrelevant in soup.body([\"script\", \"style\", \"img\", \"input\"]):\n",
    "            irrelevant.decompose()\n",
    "        self.text = soup.body.get_text(separator=\"\\n\", strip=True) if soup.body else \"No body content\"\n",
    "\n",
    "    def __repr__(self):\n",
    "        return (\n",
    "            f\"<Website(url='{self.url}', title='{self.title}', \"\n",
    "            f\"text='{self.text[:200]}...')>\"  # Show first 200 characters of text\n",
    "        )\n",
    "\n",
    "    def __str__(self):\n",
    "        return (\n",
    "            f\"Website Analysis:\\n\"\n",
    "            f\"URL: {self.url}\\n\"\n",
    "            f\"Title: {self.title}\\n\"\n",
    "            f\"Content Preview:\\n{self.text[:500]}...\"  # Show first 500 characters\n",
    "        )"
   ]
  },
  {
   "cell_type": "code",
   "execution_count": 38,
   "id": "abdb8417-c5dc-44bc-9bee-2e059d162699",
   "metadata": {},
   "outputs": [],
   "source": [
    "# Define our system prompt - you can experiment with this later, changing the last sentence to 'Respond in markdown in Spanish.\"\n",
    "\n",
    "system_prompt = \"You are an assistant that analyzes the contents of a website \\\n",
    "and provides a short summary, ignoring text that might be navigation related. \\\n",
    "Respond in markdown.\""
   ]
  },
  {
   "cell_type": "code",
   "execution_count": 39,
   "id": "f0275b1b-7cfe-4f9d-abfa-7650d378da0c",
   "metadata": {},
   "outputs": [],
   "source": [
    "# A function that writes a User Prompt that asks for summaries of websites:\n",
    "\n",
    "def user_prompt_for(website):\n",
    "    user_prompt = f\"You are looking at a website titled {website.title}\"\n",
    "    user_prompt += \"\\nThe contents of this website is as follows; \\\n",
    "please provide a short summary of this website in markdown. \\\n",
    "If it includes news or announcements, then summarize these too.\\n\\n\"\n",
    "    user_prompt += website.text\n",
    "    return user_prompt"
   ]
  },
  {
   "cell_type": "code",
   "execution_count": 40,
   "id": "2eb146f8",
   "metadata": {},
   "outputs": [],
   "source": [
    "from langchain_aws import ChatBedrockConverse\n",
    "\n",
    "llm = ChatBedrockConverse(\n",
    "    model_id=\"anthropic.claude-3-5-sonnet-20240620-v1:0\")"
   ]
  },
  {
   "cell_type": "code",
   "execution_count": 41,
   "id": "0134dfa4-8299-48b5-b444-f2a8c3403c88",
   "metadata": {},
   "outputs": [],
   "source": [
    "# See how this function creates exactly the format above\n",
    "\n",
    "def messages_for(website):\n",
    "    return [\n",
    "        {\"role\": \"system\", \"content\": system_prompt},\n",
    "        {\"role\": \"user\", \"content\": user_prompt_for(website)}\n",
    "    ]"
   ]
  },
  {
   "cell_type": "markdown",
   "id": "16f49d46-bf55-4c3e-928f-68fc0bf715b0",
   "metadata": {},
   "source": [
    "## Time to bring it together - the API for OpenAI is very simple!"
   ]
  },
  {
   "cell_type": "code",
   "execution_count": null,
   "id": "905b9919-aba7-45b5-ae65-81b3d1d78e34",
   "metadata": {},
   "outputs": [],
   "source": [
    "# And now: call the OpenAI API. You will get very familiar with this!\n",
    "\n",
    "def summarize(url):\n",
    "    website = Website(url)\n",
    "    response = llm.invoke(messages_for(website))\n",
    "    return response.content\n",
    "\n",
    "\n"
   ]
  },
  {
   "cell_type": "code",
   "execution_count": 43,
   "id": "3d926d59-450e-4609-92ba-2d6f244f1342",
   "metadata": {},
   "outputs": [],
   "source": [
    "# A function to display this nicely in the Jupyter output, using markdown\n",
    "\n",
    "def display_summary(url):\n",
    "    summary = summarize(url)\n",
    "    display(Markdown(summary))"
   ]
  },
  {
   "cell_type": "code",
   "execution_count": 44,
   "id": "3018853a-445f-41ff-9560-d925d1774b2f",
   "metadata": {},
   "outputs": [
    {
     "name": "stdout",
     "output_type": "stream",
     "text": [
      "Website Analysis:\n",
      "URL: https://www.ashokleyland.com/\n",
      "Title: Ashok Leyland – Trucks, Buses, Defence, Light Vehicles and Power Solutions\n",
      "Content Preview:\n",
      "Trucks\n",
      "ICV Trucks\n",
      "ICV Trucks\n",
      "View More\n",
      "BOSS\n",
      "Partner Super\n",
      "ecomet Star\n",
      "ICV Tippers\n",
      "Haulage\n",
      "Haulage\n",
      "View More\n",
      "6X4\n",
      "10X2 (GVW : 48T)\n",
      "8X2 (GVW : 35T)\n",
      "6X2 (GVW : 26T - 31T)\n",
      "4x2 (GVW : 19T)\n",
      "Tippers\n",
      "Tippers\n",
      "View More\n",
      "Transit Mixer 8X4\n",
      "10x2 DTLA\n",
      "10X4 DTLA\n",
      "10X4\n",
      "10X2 (GVW : 42T)\n",
      "Transit Mixer 6X4\n",
      "8X4 (GVW : 35T)\n",
      "8X2 (GVW : 35T)\n",
      "Tractors\n",
      "Tractors\n",
      "View More\n",
      "6X4 with 3-axle Trailer\n",
      "4X2 with 3-axle Trailer\n",
      "4X2 with 2-axle Trailer\n",
      "Buses\n",
      "Brands\n",
      "Brands\n",
      "View More\n",
      "GARUD 12M\n",
      "GARUD 13.5M\n",
      "Viking\n",
      "Cheetah\n",
      "Sunshine\n",
      "Oyste...\n"
     ]
    },
    {
     "data": {
      "text/markdown": [
       "Here's a short summary of the Ashok Leyland website in markdown:\n",
       "\n",
       "# Ashok Leyland - Vehicle Manufacturer\n",
       "\n",
       "Ashok Leyland is a diversified vehicle manufacturer offering a wide range of products across several categories:\n",
       "\n",
       "## Main Product Lines\n",
       "\n",
       "1. **Trucks**: Including ICV trucks, haulage vehicles, tippers, and tractors\n",
       "2. **Buses**: Various models like GARUD, Viking, Cheetah, and Sunshine\n",
       "3. **Light Vehicles**: Small commercial vehicles (SCV) and light commercial vehicles (LCV) for goods and passenger transport\n",
       "4. **Power Solutions**: Diesel gensets, industrial and agricultural engines, and marine engines\n",
       "5. **Defence**: Armored vehicles, high mobility vehicles, and specialized military logistics vehicles\n",
       "\n",
       "## Key Features\n",
       "\n",
       "- Extensive product range catering to different commercial and defense needs\n",
       "- Manufacturing presence in 5 countries with 10 plants\n",
       "- Production capacity of 500+ vehicles per day\n",
       "- Focus on innovation and sustainability\n",
       "- Offers aftermarket services, telematics solutions, and vehicle financing options\n",
       "\n",
       "## Company Values\n",
       "\n",
       "- Innovation\n",
       "- Customer Centricity\n",
       "- Trust\n",
       "- Partnership\n",
       "- Agility\n",
       "\n",
       "The website showcases Ashok Leyland's commitment to sustainable transportation solutions and highlights their 75-year history in the industry. It also provides information on their global manufacturing presence and circular economy approach."
      ],
      "text/plain": [
       "<IPython.core.display.Markdown object>"
      ]
     },
     "metadata": {},
     "output_type": "display_data"
    }
   ],
   "source": [
    "display_summary(\"https://www.ashokleyland.com/\")"
   ]
  }
 ],
 "metadata": {
  "kernelspec": {
   "display_name": "LLM",
   "language": "python",
   "name": "python3"
  },
  "language_info": {
   "codemirror_mode": {
    "name": "ipython",
    "version": 3
   },
   "file_extension": ".py",
   "mimetype": "text/x-python",
   "name": "python",
   "nbconvert_exporter": "python",
   "pygments_lexer": "ipython3",
   "version": "3.11.7"
  }
 },
 "nbformat": 4,
 "nbformat_minor": 5
}
